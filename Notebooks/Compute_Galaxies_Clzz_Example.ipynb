{
 "cells": [
  {
   "cell_type": "code",
   "execution_count": null,
   "id": "36822645",
   "metadata": {},
   "outputs": [],
   "source": [
    "%matplotlib inline\n",
    "import matplotlib.pyplot as plt\n",
    "%cd /path_to_code/SHAnTIE/\n",
    "import astropy.units as u"
   ]
  },
  {
   "cell_type": "code",
   "execution_count": null,
   "id": "dd8ce492",
   "metadata": {},
   "outputs": [],
   "source": [
    "import numpy as np\n",
    "import healpy as hp\n",
    "import h5py\n",
    "import copy\n",
    "import sys\n",
    "from intensity_mapping_refactor import SkyMap3D"
   ]
  },
  {
   "cell_type": "code",
   "execution_count": null,
   "id": "d4b87e1a",
   "metadata": {},
   "outputs": [],
   "source": [
    "#Load binned CMASS galaxies.\n",
    "BOSS_path = 'path_to_binned_BOSS_galaxy_files'\n",
    "\n",
    "with h5py.File(BOSS_path + 'CMASS_random1_galaxies_dzp1.h5', 'r') as f:\n",
    "    print(f.keys())\n",
    "    CMASS_randoms = np.array(f['hitmap'])\n",
    "with h5py.File(BOSS_path + 'CMASS_real_galaxies_with_wtot_weighting.h5', 'r') as f:\n",
    "    print(f.keys())\n",
    "    redshift_edges = np.array(f['z_edges'])\n",
    "    CMASS_reals = np.array(f['hitmap'])\n",
    "\n",
    "#Create SkyMap3D object to hold CMASS maps and weights.\n",
    "#The .from_gal_counts constructor makes overdensity maps from the galaxy number counts and the random galaxies.\n",
    "#Using sel_func_normalized = False enforces the number of random galaxies to be equal to the number of reals.\n",
    "#This option is needed because there are 50 simulated galaxy realizations in the randoms.\n",
    "CMASS_SSM3D = SkyMap3D.SphericalSkyMap3D.from_gal_counts(CMASS_reals, CMASS_randoms, z_edges = redshift_edges,\n",
    "                                                         sel_func_normalized=False, win_func = None)\n",
    "\n",
    "#Plot the weights at redshift bin 2.\n",
    "hp.mollview(CMASS_SSM3D.weights[2,:],\n",
    "        title = 'Selection function at ' + str(CMASS_SSM3D.z_edges[2]) + '<z<' + str(CMASS_SSM3D.z_edges[3]))\n",
    "#Plot the overdensities at redshift bin 2.\n",
    "hp.mollview(CMASS_SSM3D.map_array[2,:],\n",
    "        title = 'Overdensity at ' + str(CMASS_SSM3D.z_edges[2]) + '<z<' + str(CMASS_SSM3D.z_edges[3]))"
   ]
  },
  {
   "cell_type": "code",
   "execution_count": null,
   "id": "d9113abc",
   "metadata": {},
   "outputs": [],
   "source": [
    "#Create TomographicPair object to hold 2 copies of SkyMap3D object and compute angular power spectrum.\n",
    "CMASSxCMASS = SkyMap3D.TomographicPair(CMASS_SSM3D, CMASS_SSM3D)\n",
    "#Choose angular bin size for Cl computation.\n",
    "bin_size = 30\n",
    "#Compute power spectrum cl for all pairs of redshift bins.\n",
    "CMASSxCMASS.compute_cl_zz(bin_size = bin_size, save_unbinned_pcl = True)"
   ]
  },
  {
   "cell_type": "code",
   "execution_count": null,
   "id": "a8581a5f",
   "metadata": {},
   "outputs": [],
   "source": [
    "#Quick tour of main result arrays.\n",
    "\n",
    "#CMASSxCMASS.cl_zz is the binned angular power spectrum, where unmixing has been attempted via the binned mixing matrix.\n",
    "#Computation done for all pairs of redshifts.\n",
    "#The shape of cl_zz is (# angular bins, # redshift bins, # redshift bins).\n",
    "print(CMASSxCMASS.cl_zz.shape)\n",
    "\n",
    "#CMASSxCMASS.pcl_zz_binned is the binned pseudoCl spectrum, (angular power spectrum of overdensities times weights).\n",
    "#No unmixing is performed. Computation done for all pairs of redshifts.\n",
    "#The shape of pcl_zz_binned is (# angular bins, # redshift bins, # redshift bins).\n",
    "print(CMASSxCMASS.pcl_zz_binned.shape)\n",
    "\n",
    "#CMASSxCMASS.pcl_zz_unbinned is the unbinned pseudoCl spectrum, (angular power spectrum of overdensities times weights).\n",
    "#No unmixing is performed. Computation done for all pairs of redshifts.\n",
    "#The shape of pcl_zz_unbinned is (# of ells (3*Nside), # redshift bins, # redshift bins).\n",
    "print(CMASSxCMASS.pcl_zz_unbinned.shape)"
   ]
  },
  {
   "cell_type": "code",
   "execution_count": null,
   "id": "c772727c",
   "metadata": {},
   "outputs": [],
   "source": [
    "#Save file.\n",
    "\n",
    "#The save function will save all numpy array attributes of the object, like map_array, weights, cl_zz, etc.\n",
    "CMASSxCMASS.write_to_hdf5('temp.h5')"
   ]
  },
  {
   "cell_type": "code",
   "execution_count": null,
   "id": "b84f7ce8",
   "metadata": {},
   "outputs": [],
   "source": [
    "#Load file.\n",
    "\n",
    "#The load function will load all the saved numpy array attributes like map_array, weights, cl_zz, etc.\n",
    "Loaded_CMASSxCMASS = SkyMap3D.TomographicPair('temp.h5')"
   ]
  },
  {
   "cell_type": "code",
   "execution_count": null,
   "id": "05a4c4bc",
   "metadata": {},
   "outputs": [],
   "source": [
    "#Make some plots.\n",
    "\n",
    "from intensity_mapping_refactor import plotting_tools as pt\n",
    "\n",
    "#Plot all the overdensity maps.\n",
    "pt.plot_maps(CMASSxCMASS.maps1.map_array, fname='temp.pdf')\n",
    "\n",
    "#Plot cl_zz cubes. Each cube is at a given ell, and shows Cl at all pairs of redshifts.\n",
    "pt.plot_cl_zz_cubes(CMASSxCMASS, fname='temp.pdf')"
   ]
  },
  {
   "cell_type": "code",
   "execution_count": null,
   "id": "4a78cfc7",
   "metadata": {},
   "outputs": [],
   "source": [
    "#Plot cl as a function of ell for all redshift bin pairs.\n",
    "\n",
    "#Define function for computing approximate error diagonals from C_ell_zz.\n",
    "#These error bars are only approximate.\n",
    "\n",
    "def f_sky(weights1, weights2):\n",
    "    factor = np.sum(weights1*weights2)**2.\n",
    "    factor /= np.sum(weights1**2*weights2**2.)*float(np.size(weights1))\n",
    "    return factor\n",
    "\n",
    "def compute_error_diagonals(this_cl_object, auto1_cl_zz = None, auto2_cl_zz = None, cross = False):\n",
    "    fsky = f_sky(this_cl_object.maps1.weights[0,:], this_cl_object.maps2.weights[0,:])\n",
    "    pre_factor = (this_cl_object.ell_bin_size*fsky*(2*this_cl_object.ells+1))**(-1)\n",
    "    if not cross:\n",
    "        this_cl_zz_auto_diag = np.einsum('ijj->ij', this_cl_object.cl_zz)\n",
    "        var = pre_factor[:,None,None]*(np.abs(np.einsum('ij,ik->ijk', \n",
    "                            this_cl_zz_auto_diag, this_cl_zz_auto_diag)) + np.einsum('ijk,ijk->ijk'\n",
    "                                                        , this_cl_object.cl_zz, this_cl_object.cl_zz))\n",
    "    else:\n",
    "        auto1_diag = np.einsum('ijj->ij', auto1_cl_zz.cl_zz)\n",
    "        auto2_diag = np.einsum('ijj->ij', auto2_cl_zz.cl_zz)\n",
    "        var = pre_factor[:,None,None]*np.abs(np.einsum('ij,ik->ijk', auto1_diag, auto2_diag))\n",
    "        var += pre_factor[:,None,None]*this_cl_object.cl_zz**2\n",
    "    std = var**0.5\n",
    "    return std\n",
    "\n",
    "pt.plot_cl_zpairs_vs_ell(CMASSxCMASS, compute_error_diagonals(CMASSxCMASS), \n",
    "                        [0,1,2,3,4], [0,1,2,3,4], ['z1=0.1', 'z1=0.3', 'z1=0.5', 'z1=0.7', 'z1=0.9'], \n",
    "                         ['z2=0.1', 'z2=0.3', 'z2=0.5', 'z2=0.7', 'z2=0.9'],\n",
    "                        fname = 'temp.pdf')"
   ]
  },
  {
   "cell_type": "code",
   "execution_count": null,
   "id": "09dcce6d",
   "metadata": {},
   "outputs": [],
   "source": []
  }
 ],
 "metadata": {
  "kernelspec": {
   "display_name": "Python 3",
   "language": "python",
   "name": "python3"
  },
  "language_info": {
   "codemirror_mode": {
    "name": "ipython",
    "version": 3
   },
   "file_extension": ".py",
   "mimetype": "text/x-python",
   "name": "python",
   "nbconvert_exporter": "python",
   "pygments_lexer": "ipython3",
   "version": "3.9.12"
  }
 },
 "nbformat": 4,
 "nbformat_minor": 5
}
