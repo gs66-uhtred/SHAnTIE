{
 "cells": [
  {
   "cell_type": "code",
   "execution_count": null,
   "id": "f574f805",
   "metadata": {},
   "outputs": [],
   "source": [
    "%matplotlib inline\n",
    "import matplotlib.pyplot as plt\n",
    "%cd /path_to_code/SHAnTIE/\n",
    "import astropy.units as u"
   ]
  },
  {
   "cell_type": "code",
   "execution_count": null,
   "id": "cf64707e",
   "metadata": {},
   "outputs": [],
   "source": [
    "from astropy.io import fits\n",
    "import numpy as np\n",
    "import healpy as hp\n",
    "import h5py\n",
    "import copy"
   ]
  },
  {
   "cell_type": "code",
   "execution_count": null,
   "id": "0fce9f3e",
   "metadata": {},
   "outputs": [],
   "source": [
    "from intensity_mapping import rebin_galaxies as rg"
   ]
  },
  {
   "cell_type": "code",
   "execution_count": null,
   "id": "492535e7",
   "metadata": {},
   "outputs": [],
   "source": [
    "#Select real galaxies to create the data file, or random galaxies to create a selection function.\n",
    "path = 'path_to_BOSS_galaxy_catalog_files'\n",
    "real_not_sims = True\n",
    "if real_not_sims:\n",
    "    fname = path + 'galaxy_DR12v5_CMASS_North.fits.gz'\n",
    "else:\n",
    "    fname = path + 'random1_DR12v5_CMASS_North.fits.gz'\n",
    "CMASS_North_real_fits = fits.open(fname)\n",
    "\n",
    "#Select edges of z-bins to use here. This example uses bins of size 0.2.\n",
    "z_left = np.array([0,0.2,0.4,0.6,0.8])\n",
    "z_right = np.array([0.2,0.4,0.6,0.8,1])\n",
    "#Set Nside for output binned catalog.\n",
    "Nside = 512"
   ]
  },
  {
   "cell_type": "code",
   "execution_count": null,
   "id": "32808d9a",
   "metadata": {},
   "outputs": [],
   "source": [
    "print(CMASS_North_real_fits.info())\n",
    "print(list(CMASS_North_real_fits[0].header.keys()))\n",
    "print(vars(CMASS_North_real_fits[1]))"
   ]
  },
  {
   "cell_type": "code",
   "execution_count": null,
   "id": "21f7bb17",
   "metadata": {},
   "outputs": [],
   "source": [
    "print(CMASS_North_real_fits[1].data['RA'])\n",
    "print(CMASS_North_real_fits[1].data['dec'])\n",
    "print(CMASS_North_real_fits[1].data['z'])\n",
    "\n",
    "print(CMASS_North_real_fits[1].data['WEIGHT_SYSTOT'])"
   ]
  },
  {
   "cell_type": "code",
   "execution_count": null,
   "id": "149746e0",
   "metadata": {},
   "outputs": [],
   "source": [
    "#Define function to make hitmap.\n",
    "\n",
    "def make_hitmap_from_catalog_file(fname, nside, z_left, z_right, output_coord = 'G', apply_wtot = False):\n",
    "    with fits.open(fname) as f:\n",
    "        ra_deg =  f[1].data['RA']\n",
    "        dec_deg = 90 - f[1].data['DEC']\n",
    "        zs = f[1].data['z']\n",
    "    if not apply_wtot:\n",
    "        return rg.bin_catalog2d(ra_deg*u.deg, dec_deg*u.deg, zs, nside, z_left, z_right, coord = output_coord)\n",
    "    else:\n",
    "        wsystot = np.array(f[1].data['WEIGHT_SYSTOT'])\n",
    "        wcp = np.array(f[1].data['WEIGHT_CP'])\n",
    "        wnoz = np.array(f[1].data['WEIGHT_NOZ'])\n",
    "        wtot = wsystot*(wcp + wnoz - 1)\n",
    "        return rg.bin_catalog2d(ra_deg*u.deg, dec_deg*u.deg, zs, nside, z_left, z_right, weights = wtot,\n",
    "                                coord = output_coord)\n",
    "\n",
    "def make_hitmap_N_and_S(path, file_beginning, nside, z_left, z_right, output_coord = 'G', file_ending = '.fits.gz',\n",
    "                       apply_wtot = False):\n",
    "    full_path = path + file_beginning + 'North' + file_ending\n",
    "    north_hits = make_hitmap_from_catalog_file(full_path, nside, z_left, z_right, output_coord = output_coord,\n",
    "                                              apply_wtot = apply_wtot)\n",
    "    full_path = path + file_beginning + 'South' + file_ending\n",
    "    south_hits = make_hitmap_from_catalog_file(full_path, nside, z_left, z_right, output_coord = output_coord,\n",
    "                                              apply_wtot = apply_wtot)\n",
    "    ans = [north_hits[0] + south_hits[0], north_hits[1] + south_hits[1]]\n",
    "    return ans\n",
    "\n",
    "def save_hitmap(path, file_beginning, nside, z_left, z_right, output_fname, apply_wtot = False,\n",
    "                output_coord = 'G', file_ending = '.fits.gz'):\n",
    "    hitmaps = make_hitmap_N_and_S(path, file_beginning, nside, \n",
    "                                  z_left, z_right, output_coord = output_coord, file_ending = file_ending)\n",
    "    z_edges = np.zeros((len(z_left) + 1))\n",
    "    z_edges[:-1] = z_left\n",
    "    z_edges[-1] = z_right[-1]\n",
    "    if apply_wtot:\n",
    "        wtot_weighted_hitmaps = make_hitmap_N_and_S(path, file_beginning, nside, \n",
    "                                  z_left, z_right, apply_wtot = True, \n",
    "                                                    output_coord = output_coord, file_ending = file_ending)\n",
    "    with h5py.File(output_fname, 'a') as f:\n",
    "        f['z_edges'] = z_edges\n",
    "        f['num_gals_per_z'] = hitmaps[0]\n",
    "        f['hitmap'] = hitmaps[1].T\n",
    "        if apply_wtot:\n",
    "            f['wtot_weighted_hitmap'] = wtot_weighted_hitmaps[1].T"
   ]
  },
  {
   "cell_type": "code",
   "execution_count": null,
   "id": "b7b10b6d",
   "metadata": {},
   "outputs": [],
   "source": [
    "#Save binned galaxy counts.\n",
    "if real_not_sims:\n",
    "    save_hitmap(path, 'galaxy_DR12v5_CMASS_', Nside, z_left, z_right, \n",
    "            path + 'number_counts_3d/Nside_512/CMASS_real_galaxies_with_wtot_weighting.h5', apply_wtot=True)\n",
    "else:\n",
    "    save_hitmap(path, 'random1_DR12v5_CMASS_', Nside, z_left, z_right, \n",
    "            path + 'number_counts_3d/Nside_512/CMASS_random1_galaxies_dzp1.h5', apply_wtot=False)\n"
   ]
  }
 ],
 "metadata": {
  "kernelspec": {
   "display_name": "Python 3",
   "language": "python",
   "name": "python3"
  },
  "language_info": {
   "codemirror_mode": {
    "name": "ipython",
    "version": 3
   },
   "file_extension": ".py",
   "mimetype": "text/x-python",
   "name": "python",
   "nbconvert_exporter": "python",
   "pygments_lexer": "ipython3",
   "version": "3.9.12"
  }
 },
 "nbformat": 4,
 "nbformat_minor": 5
}
